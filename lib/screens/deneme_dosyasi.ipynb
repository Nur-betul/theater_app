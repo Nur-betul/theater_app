{
 "cells": [
  {
   "cell_type": "code",
   "execution_count": 2,
   "metadata": {},
   "outputs": [],
   "source": [
    "import base64\n",
    "\n",
    "# Dosyayı ikili formatta okuyun\n",
    "with open('/Users/betulogmen/Downloads/—Pngtree—black and white chess board_5983396.png', 'rb') as file:\n",
    "    binary_data = file.read()\n",
    "\n",
    "# İkili veriyi base64'e kodlayın\n",
    "encoded_data = base64.b64encode(binary_data)\n",
    "\n",
    "# Veriyi string olarak kullanmak için decode edin (SQL sorgusu için)\n",
    "encoded_string = encoded_data.decode('utf-8')\n",
    "\n",
    "\n"
   ]
  },
  {
   "cell_type": "code",
   "execution_count": 6,
   "metadata": {},
   "outputs": [],
   "source": [
    "import base64\n",
    "\n",
    "# Path to your PNG file\n",
    "input_file_path = '/Users/betulogmen/Downloads/—Pngtree—black and white chess board_5983396.png'\n",
    "# Path where you want to save the encoded string\n",
    "output_file_path = '/Users/betulogmen/development/theater/path_to_your_output_txt_file.txt'\n",
    "\n",
    "# Read the PNG file in binary mode\n",
    "with open(input_file_path, 'rb') as image_file:\n",
    "    image_data = image_file.read()\n",
    "\n",
    "# Encode the binary data to base64\n",
    "encoded_string = base64.b64encode(image_data).decode('utf-8')\n",
    "\n",
    "# Write the base64 encoded string to a text file\n",
    "with open(output_file_path, 'w') as text_file:\n",
    "    text_file.write(encoded_string)\n"
   ]
  }
 ],
 "metadata": {
  "kernelspec": {
   "display_name": "Python 3",
   "language": "python",
   "name": "python3"
  },
  "language_info": {
   "codemirror_mode": {
    "name": "ipython",
    "version": 3
   },
   "file_extension": ".py",
   "mimetype": "text/x-python",
   "name": "python",
   "nbconvert_exporter": "python",
   "pygments_lexer": "ipython3",
   "version": "3.9.6"
  }
 },
 "nbformat": 4,
 "nbformat_minor": 2
}
